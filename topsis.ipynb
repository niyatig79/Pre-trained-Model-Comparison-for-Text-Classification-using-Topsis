{
 "cells": [
  {
   "cell_type": "code",
   "execution_count": 1,
   "id": "016f318a-6aa2-430c-a79c-f75333706dfb",
   "metadata": {},
   "outputs": [],
   "source": [
    "import torch\n",
    "from transformers import AutoTokenizer, AutoModelForSequenceClassification, pipeline\n",
    "from sklearn.metrics import accuracy_score, precision_score, recall_score, f1_score\n",
    "import pandas as pd\n",
    "import numpy as np\n",
    "import pyarrow.parquet as pq\n",
    "import seaborn as sns\n",
    "import matplotlib.pyplot as plt\n",
    "import time"
   ]
  },
  {
   "cell_type": "code",
   "execution_count": 2,
   "id": "5465804e-fae2-431f-9803-8dec2a8a14e8",
   "metadata": {},
   "outputs": [
    {
     "name": "stdout",
     "output_type": "stream",
     "text": [
      "                                                text  label\n",
      "0  I love sci-fi and am willing to put up with a ...      0\n",
      "1  Worth the entertainment value of a rental, esp...      0\n",
      "2  its a totally average film with a few semi-alr...      0\n",
      "3  STAR RATING: ***** Saturday Night **** Friday ...      0\n",
      "4  First off let me say, If you haven't enjoyed a...      0\n"
     ]
    },
    {
     "data": {
      "image/png": "[encoded data removed]",
      "text/plain": [
       "<Figure size 400x400 with 1 Axes>"
      ]
     },
     "metadata": {},
     "output_type": "display_data"
    }
   ],
   "source": [
    "# Load IMDb dataset (test data, 1000 instances)\n",
    "test_data = pd.read_csv('test_data.csv')\n",
    "print(test_data.head())\n",
    "\n",
    "# Test dataset category count plot\n",
    "plt.figure(figsize=(4, 4))\n",
    "sns.countplot(x='label', data=test_data)\n",
    "plt.show()"
   ]
  },
  {
   "cell_type": "code",
   "execution_count": 5,
   "id": "66e86021-02b3-415d-98f2-4e6d4051c640",
   "metadata": {},
   "outputs": [],
   "source": [
    "# Pretrained models for sentiment analysis\n",
    "models = [\n",
    "    \"cardiffnlp/twitter-roberta-base-sentiment\",\n",
    "    \"textattack/bert-base-uncased-SST-2\",\n",
    "    \"aychang/roberta-base-imdb\",\n",
    "    \"t5-small\"\n",
    "]"
   ]
  },
  {
   "cell_type": "code",
   "execution_count": null,
   "id": "e3965049-11c6-4ddc-9612-a4f1b4c02be5",
   "metadata": {},
   "outputs": [],
   "source": [
    "# Tokenize and get predictions for each model\n",
    "results = []\n",
    "\n",
    "for model_name in models:\n",
    "    tokenizer = AutoTokenizer.from_pretrained(model_name)\n",
    "    model = AutoModelForSequenceClassification.from_pretrained(model_name)\n",
    "\n",
    "    predictions = []\n",
    "    start_time = time.time()\n",
    "\n",
    "    for i in range(len(test_data)):\n",
    "        example = test_data.iloc[i, :]\n",
    "        inputs = tokenizer(example[\"text\"], return_tensors=\"pt\", max_length=500, truncation=True)\n",
    "        outputs = model(**inputs)\n",
    "        logits = outputs.logits\n",
    "        predicted_class = torch.argmax(logits, dim=1).item()\n",
    "        predictions.append(predicted_class)\n",
    "\n",
    "    end_time = time.time()\n",
    "    inference_time = (end_time - start_time) / len(test_data)\n",
    "\n",
    "    results.append({\"model\": model_name, \"predictions\": predictions, \"inference_time\": inference_time})\n"
   ]
  },
  {
   "cell_type": "code",
   "execution_count": null,
   "id": "50a28728-12f2-416d-9dc0-d02cbb9f7fd7",
   "metadata": {},
   "outputs": [],
   "source": [
    "# Evaluate model performance using metrics\n",
    "metrics_data = []\n",
    "\n",
    "for result in results:\n",
    "    model_name = result[\"model\"]\n",
    "    predicted_labels = result[\"predictions\"]\n",
    "    inference_time = result[\"inference_time\"]\n",
    "    true_labels = test_data['label']\n",
    "\n",
    "    accuracy = accuracy_score(true_labels, predicted_labels)\n",
    "    precision = precision_score(true_labels, predicted_labels, average=\"weighted\", zero_division=0)\n",
    "    recall = recall_score(true_labels, predicted_labels, average='weighted', zero_division=0)\n",
    "    f1 = f1_score(true_labels, predicted_labels, average=\"weighted\")\n",
    "\n",
    "    metrics_data.append({\"Model\": model_name, \"Accuracy\": accuracy, \"Precision\": precision, \"Recall\": recall, \"F1\": f1, \"Inference Time\": inference_time})\n"
   ]
  },
  {
   "cell_type": "code",
   "execution_count": null,
   "id": "07284203-0df8-4c0e-ade0-d6102ad89aaa",
   "metadata": {},
   "outputs": [],
   "source": [
    "# Create a DataFrame to store the metrics\n",
    "metrics_df = pd.DataFrame(metrics_data)\n",
    "print(metrics_df)"
   ]
  },
  {
   "cell_type": "code",
   "execution_count": null,
   "id": "598eb082-5490-4d17-875d-d91c64fb9858",
   "metadata": {},
   "outputs": [],
   "source": [
    "# Plotting metrics for different models\n",
    "plt.figure(figsize=(8, 5))\n",
    "sns.barplot(x='Model', y='Accuracy', data=metrics_df, color='skyblue', label='Accuracy')\n",
    "sns.barplot(x='Model', y='Precision', data=metrics_df, color='salmon', label='Precision')\n",
    "sns.barplot(x='Model', y='Recall', data=metrics_df, color='lightgreen', label='Recall')\n",
    "sns.barplot(x='Model', y='F1', data=metrics_df, color='orange', label='F1')\n",
    "\n",
    "# Adding labels and title\n",
    "plt.xlabel('Models', fontsize=12)\n",
    "plt.ylabel('Metrics', fontsize=12)\n",
    "plt.title('Performance Metrics for Different Models', fontsize=14)\n",
    "plt.legend()\n",
    "plt.xticks(rotation=45)\n",
    "\n",
    "plt.grid(axis=\"y\", linestyle=\"--\", alpha=0.7)\n",
    "plt.show()"
   ]
  },
  {
   "cell_type": "code",
   "execution_count": null,
   "id": "50577d9d-8263-4c01-9061-ca56b0747c43",
   "metadata": {},
   "outputs": [],
   "source": [
    "# Defining the TOPSIS function\n",
    "def TOPSIS(df, weights, criteria):\n",
    "    # Normalize data\n",
    "    norm_df = df.iloc[:, 1:] / np.sqrt((df.iloc[:, 1:] ** 2).sum())\n",
    "    weighted_df = norm_df * weights\n",
    "\n",
    "    # Ideal best and worst\n",
    "    ideal_best = (criteria * weighted_df).max()\n",
    "    ideal_worst = (criteria * weighted_df).min()\n",
    "\n",
    "    # Distances\n",
    "    distance_best = np.sqrt(((weighted_df - ideal_best) ** 2).sum(axis=1))\n",
    "    distance_worst = np.sqrt(((weighted_df - ideal_worst) ** 2).sum(axis=1))\n",
    "\n",
    "    # TOPSIS scores\n",
    "    scores = distance_worst / (distance_best + distance_worst)\n",
    "    df[\"TOPSIS Score\"] = scores\n",
    "    df[\"TOPSIS Rank\"] = df[\"TOPSIS Score\"].rank(ascending=False)\n",
    "    \n",
    "    return df.sort_values(by=\"TOPSIS Rank\")"
   ]
  },
  {
   "cell_type": "code",
   "execution_count": null,
   "id": "37119b87-0529-44bf-bf28-6a80e8967e55",
   "metadata": {},
   "outputs": [],
   "source": [
    "# Defining weights and criteria\n",
    "weights = np.array([0.3, 0.3, 0.2, 0.1, 0.1])  # Giving some weight to inference time\n",
    "criteria = np.array([1, 1, 1, 1, -1])  # Inference time is minimized\n",
    "\n",
    "# Ranking models using TOPSIS\n",
    "ranked_df = TOPSIS(metrics_df, weights, criteria)\n",
    "print(ranked_df)"
   ]
  },
  {
   "cell_type": "code",
   "execution_count": null,
   "id": "454ae5e5-ac22-4106-bdca-0757ba8a30af",
   "metadata": {},
   "outputs": [],
   "source": [
    "# Plotting TOPSIS Scores\n",
    "plt.figure(figsize=(8, 5))\n",
    "sns.barplot(x='Model', y='TOPSIS Score', data=ranked_df, palette=\"viridis\")\n",
    "\n",
    "plt.xlabel(\"Model\", fontsize=12)\n",
    "plt.ylabel(\"TOPSIS Score\", fontsize=12)\n",
    "plt.title(\"TOPSIS Ranking of Pre-trained Models for Sentiment Analysis\", fontsize=14)\n",
    "plt.xticks(rotation=45)\n",
    "plt.grid(axis=\"y\", linestyle=\"--\", alpha=0.7)\n",
    "\n",
    "# Save plot as an image\n",
    "plt.savefig(\"topsis_ranking.png\")\n",
    "plt.show()\n",
    "\n",
    "# Print final results with explanation\n",
    "print(\"\\nModel Performance Analysis:\")\n",
    "print(ranked_df)\n",
    "print(\"\\nAnalysis:\")\n",
    "best_model = ranked_df.iloc[0]['Model']\n",
    "print(f\"The best model according to the TOPSIS ranking is **{best_model}**.\")\n",
    "print(\"A higher accuracy, precision, recall, and F1-score indicate better predictive performance, while a lower inference time is preferable for real-time applications.\")\n"
   ]
  }
 ],
 "metadata": {
  "kernelspec": {
   "display_name": "Python 3 (ipykernel)",
   "language": "python",
   "name": "python3"
  },
  "language_info": {
   "codemirror_mode": {
    "name": "ipython",
    "version": 3
   },
   "file_extension": ".py",
   "mimetype": "text/x-python",
   "name": "python",
   "nbconvert_exporter": "python",
   "pygments_lexer": "ipython3",
   "version": "3.12.4"
  }
 },
 "nbformat": 4,
 "nbformat_minor": 5
}
